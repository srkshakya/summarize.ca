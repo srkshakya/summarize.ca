{
 "cells": [
  {
   "cell_type": "code",
   "execution_count": 1,
   "metadata": {},
   "outputs": [],
   "source": [
    "from flask import Flask, redirect, url_for, render_template, request\n",
    "from gensim.summarization.summarizer import summarize\n"
   ]
  },
  {
   "cell_type": "code",
   "execution_count": null,
   "metadata": {},
   "outputs": [],
   "source": []
  },
  {
   "cell_type": "code",
   "execution_count": null,
   "metadata": {},
   "outputs": [
    {
     "name": "stdout",
     "output_type": "stream",
     "text": [
      " * Serving Flask app \"__main__\" (lazy loading)\n",
      " * Environment: production\n",
      "   WARNING: Do not use the development server in a production environment.\n",
      "   Use a production WSGI server instead.\n",
      " * Debug mode: off\n"
     ]
    },
    {
     "name": "stderr",
     "output_type": "stream",
     "text": [
      " * Running on http://127.0.0.1:5000/ (Press CTRL+C to quit)\n",
      "127.0.0.1 - - [05/Jun/2020 22:46:10] \"GET / HTTP/1.1\" 200 -\n",
      "127.0.0.1 - - [05/Jun/2020 22:46:11] \"GET /favicon.ico HTTP/1.1\" 200 -\n",
      "127.0.0.1 - - [05/Jun/2020 22:55:48] \"POST / HTTP/1.1\" 200 -\n",
      "127.0.0.1 - - [05/Jun/2020 22:55:49] \"GET /favicon.ico HTTP/1.1\" 200 -\n",
      "127.0.0.1 - - [05/Jun/2020 23:06:00] \"GET / HTTP/1.1\" 200 -\n",
      "127.0.0.1 - - [05/Jun/2020 23:06:01] \"GET /favicon.ico HTTP/1.1\" 200 -\n",
      "127.0.0.1 - - [05/Jun/2020 23:07:59] \"GET / HTTP/1.1\" 200 -\n",
      "127.0.0.1 - - [05/Jun/2020 23:08:00] \"GET /favicon.ico HTTP/1.1\" 200 -\n",
      "127.0.0.1 - - [05/Jun/2020 23:09:09] \"POST / HTTP/1.1\" 200 -\n",
      "127.0.0.1 - - [05/Jun/2020 23:09:10] \"GET /favicon.ico HTTP/1.1\" 200 -\n"
     ]
    }
   ],
   "source": [
    "app = Flask(__name__)\n",
    "\n",
    "#def summarize(text):\n",
    " #   old_text = text\n",
    "  #  nlp = en_core_web_sm.load()\n",
    "   # docx = nlp(text)\n",
    "    #n = int(len(docx)/1.35)\n",
    "   # words = (text.split())\n",
    "   # word_freq= (collections.Counter(words))\n",
    "   # max_freq = max(word_freq.values())\n",
    "   # for word in word_freq.keys():\n",
    "    #    word_freq[word] = (word_freq[word]/max_freq)\n",
    "\n",
    "    #sentence_scores = {}\n",
    "    #sent_size = 40\n",
    "   # num_sent = 0\n",
    "    #for sent in docx.sents:\n",
    "     #   for word in sent:\n",
    "      #      if word.text.lower() in word_freq.keys():\n",
    "       #         if len(sent.text.split(\" \")) < sent_size:\n",
    "        #            if sent not in word_freq.keys():\n",
    "         #               sentence_scores[sent] = word_freq[word.text.lower()]\n",
    "          #          else:\n",
    "           #             sentence_scores[sent] += word_freq[word.text.lower()]\n",
    "        #num_sent += 1\n",
    "\n",
    "  #  n = int(num_sent*0.35)\n",
    "\n",
    "   # summarized_sentence = nlargest(n,sentence_scores,key=sentence_scores.get)\n",
    "    #text = \"\"\n",
    "    #i = 1\n",
    "    #for sent in summarized_sentence:\n",
    "     #   text += (str(sent) + \" \")\n",
    "      #  i+=1\n",
    "    #if text is None or text.strip()==\"\":\n",
    "     #   return old_text\n",
    "    #else:\n",
    "     #   return text\n",
    "\n",
    "\n",
    "@app.route(\"/\",methods=[\"POST\",\"GET\"])\n",
    "def home(text=\"\"):\n",
    "    script = \"\"\n",
    "    if request.method == \"POST\":\n",
    "        script = str(request.form[\"script\"])\n",
    "        try:\n",
    "            summarized_script_high = summarize(script,0.25)\n",
    "        except ValueError:\n",
    "            summarized_script_high = \"\"\n",
    "        \n",
    "        try:\n",
    "            summarized_script_medium = summarize(script,0.50)\n",
    "        except ValueError:\n",
    "            summarized_script_medium = \"\"\n",
    "        try:\n",
    "            summarized_script_low = summarize(script,0.75)\n",
    "        except ValueError:\n",
    "            summarized_script_low = \"\"\n",
    "    \n",
    "        if summarized_script_high != \"\":\n",
    "            return render_template(\"index.html\", text=(summarized_script_high))\n",
    "        elif summarized_script_medium != \"\":\n",
    "            return render_template(\"index.html\", text=(summarized_script_medium))\n",
    "        elif summarized_script_low != \"\":\n",
    "            return render_template(\"index.html\", text=(summarized_script_low))\n",
    "        else:\n",
    "            return render_template(\"index.html\", text=(script))\n",
    "    else:\n",
    "        return render_template(\"index.html\",text=script)\n",
    "    \n",
    "@app.route(\"/<text>\")\n",
    "def disp(text):\n",
    "    return f\"<p>{text}</p>\"\n",
    "    \n",
    "    \n",
    "if __name__ == \"__main__\":\n",
    "    app.run()\n",
    "    "
   ]
  },
  {
   "cell_type": "code",
   "execution_count": null,
   "metadata": {},
   "outputs": [],
   "source": []
  },
  {
   "cell_type": "code",
   "execution_count": null,
   "metadata": {},
   "outputs": [],
   "source": []
  },
  {
   "cell_type": "code",
   "execution_count": null,
   "metadata": {},
   "outputs": [],
   "source": []
  }
 ],
 "metadata": {
  "kernelspec": {
   "display_name": "Python 3",
   "language": "python",
   "name": "python3"
  },
  "language_info": {
   "codemirror_mode": {
    "name": "ipython",
    "version": 3
   },
   "file_extension": ".py",
   "mimetype": "text/x-python",
   "name": "python",
   "nbconvert_exporter": "python",
   "pygments_lexer": "ipython3",
   "version": "3.7.1"
  }
 },
 "nbformat": 4,
 "nbformat_minor": 2
}
