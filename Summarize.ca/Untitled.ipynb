{
 "cells": [
  {
   "cell_type": "code",
   "execution_count": null,
   "metadata": {},
   "outputs": [],
   "source": [
    "from flask import Flask, redirect, url_for, render_template, request\n",
    "from gensim.summarization.summarizer import summarize\n"
   ]
  },
  {
   "cell_type": "code",
   "execution_count": 12,
   "metadata": {},
   "outputs": [
    {
     "name": "stdout",
     "output_type": "stream",
     "text": [
      "Mastering any physical skill, be it performing a pirouette, playing an instrument, or throwing a baseball, takes practice.\n",
      "Practice is the repetition of an action with the goal of improvement, and it helps us perform with more ease, speed, and confidence.\n",
      "The grey matter processes information in the brain, directing signals and sensory stimuli to nerve cells, while white matter is mostly made up of fatty tissue and nerve fibers.\n",
      "In order for our bodies to move, information needs to travel from the brain's grey matter, down the spinal cord, through a chain of nerve fibers called axons to our muscles.\n",
      "Some recent studies in mice suggest that the repetition of a physical motion increases the layers of myelin sheath that insulates the axons.\n",
      "Many divide their time  used for effective practice into multiple daily practice sessions of limited duration.\n",
      "As scientists get closer to unraveling the secrets of our brains, our understanding of effective practice will only improve.\n"
     ]
    }
   ],
   "source": []
  },
  {
   "cell_type": "code",
   "execution_count": null,
   "metadata": {},
   "outputs": [],
   "source": [
    "app = Flask(__name__)\n",
    "\n",
    "#def summarize(text):\n",
    " #   old_text = text\n",
    "  #  nlp = en_core_web_sm.load()\n",
    "   # docx = nlp(text)\n",
    "    #n = int(len(docx)/1.35)\n",
    "   # words = (text.split())\n",
    "   # word_freq= (collections.Counter(words))\n",
    "   # max_freq = max(word_freq.values())\n",
    "   # for word in word_freq.keys():\n",
    "    #    word_freq[word] = (word_freq[word]/max_freq)\n",
    "\n",
    "    #sentence_scores = {}\n",
    "    #sent_size = 40\n",
    "   # num_sent = 0\n",
    "    #for sent in docx.sents:\n",
    "     #   for word in sent:\n",
    "      #      if word.text.lower() in word_freq.keys():\n",
    "       #         if len(sent.text.split(\" \")) < sent_size:\n",
    "        #            if sent not in word_freq.keys():\n",
    "         #               sentence_scores[sent] = word_freq[word.text.lower()]\n",
    "          #          else:\n",
    "           #             sentence_scores[sent] += word_freq[word.text.lower()]\n",
    "        #num_sent += 1\n",
    "\n",
    "  #  n = int(num_sent*0.35)\n",
    "\n",
    "   # summarized_sentence = nlargest(n,sentence_scores,key=sentence_scores.get)\n",
    "    #text = \"\"\n",
    "    #i = 1\n",
    "    #for sent in summarized_sentence:\n",
    "     #   text += (str(sent) + \" \")\n",
    "      #  i+=1\n",
    "    #if text is None or text.strip()==\"\":\n",
    "     #   return old_text\n",
    "    #else:\n",
    "     #   return text\n",
    "       \n",
    "\n",
    "@app.route(\"/\",methods=[\"POST\",\"GET\"])\n",
    "def home(text=\"test\"):\n",
    "    script = None\n",
    "    if request.method == \"POST\":\n",
    "        script = str(request.form[\"script\"])\n",
    "        return render_template(\"index.html\", text=summarize(script))\n",
    "    else:\n",
    "        return render_template(\"index.html\", text=text)\n",
    "\n",
    "    \n",
    "@app.route(\"/<text>\")\n",
    "def disp(text):\n",
    "    return f\"<p>{text}</p>\"\n",
    "    \n",
    "    \n",
    "if __name__ == \"__main__\":\n",
    "    app.run()\n",
    "    "
   ]
  },
  {
   "cell_type": "code",
   "execution_count": 13,
   "metadata": {},
   "outputs": [],
   "source": []
  },
  {
   "cell_type": "code",
   "execution_count": null,
   "metadata": {},
   "outputs": [],
   "source": []
  }
 ],
 "metadata": {
  "kernelspec": {
   "display_name": "Python 3",
   "language": "python",
   "name": "python3"
  },
  "language_info": {
   "codemirror_mode": {
    "name": "ipython",
    "version": 3
   },
   "file_extension": ".py",
   "mimetype": "text/x-python",
   "name": "python",
   "nbconvert_exporter": "python",
   "pygments_lexer": "ipython3",
   "version": "3.7.1"
  }
 },
 "nbformat": 4,
 "nbformat_minor": 2
}
