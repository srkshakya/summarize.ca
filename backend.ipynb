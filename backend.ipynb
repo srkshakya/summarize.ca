{
 "cells": [
  {
   "cell_type": "code",
   "execution_count": 1,
   "metadata": {},
   "outputs": [],
   "source": []
  },
  {
   "cell_type": "code",
   "execution_count": null,
   "metadata": {},
   "outputs": [],
   "source": []
  },
  {
   "cell_type": "code",
   "execution_count": null,
   "metadata": {},
   "outputs": [],
   "source": [
    "from flask import Flask, redirect, url_for, render_template, request\n",
    "from gensim.summarization.summarizer import summarize\n",
    "\n",
    "\n",
    "app = Flask(__name__)\n",
    "\n",
    "\n",
    "\n",
    "@app.route(\"/\",methods=[\"POST\",\"GET\"])\n",
    "def home(text=\"\"):\n",
    "    script = \"\"\n",
    "    if request.method == \"POST\":\n",
    "        script = str(request.form[\"script\"])\n",
    "        try:\n",
    "            summarized_script_high = summarize(script,0.25)\n",
    "        except ValueError:\n",
    "            summarized_script_high = \"\"\n",
    "        \n",
    "        try:\n",
    "            summarized_script_medium = summarize(script,0.50)\n",
    "        except ValueError:\n",
    "            summarized_script_medium = \"\"\n",
    "        try:\n",
    "            summarized_script_low = summarize(script,0.75)\n",
    "        except ValueError:\n",
    "            summarized_script_low = \"\"\n",
    "    \n",
    "        if summarized_script_high != \"\":\n",
    "            return render_template(\"index.html\", text=(summarized_script_high))\n",
    "        elif summarized_script_medium != \"\":\n",
    "            return render_template(\"index.html\", text=(summarized_script_medium))\n",
    "        elif summarized_script_low != \"\":\n",
    "            return render_template(\"index.html\", text=(summarized_script_low))\n",
    "        else:\n",
    "            return render_template(\"index.html\", text=(script))\n",
    "    else:\n",
    "        return render_template(\"index.html\",text=script)\n",
    "    \n",
    "@app.route(\"/<text>\")\n",
    "def disp(text):\n",
    "    return f\"<p>{text}</p>\"\n",
    "    \n",
    "    \n",
    "if __name__ == \"__main__\":\n",
    "    app.run()\n",
    "    "
   ]
  },
  {
   "cell_type": "code",
   "execution_count": null,
   "metadata": {},
   "outputs": [],
   "source": []
  },
  {
   "cell_type": "code",
   "execution_count": null,
   "metadata": {},
   "outputs": [],
   "source": []
  },
  {
   "cell_type": "code",
   "execution_count": null,
   "metadata": {},
   "outputs": [],
   "source": []
  }
 ],
 "metadata": {
  "kernelspec": {
   "display_name": "Python 3",
   "language": "python",
   "name": "python3"
  },
  "language_info": {
   "codemirror_mode": {
    "name": "ipython",
    "version": 3
   },
   "file_extension": ".py",
   "mimetype": "text/x-python",
   "name": "python",
   "nbconvert_exporter": "python",
   "pygments_lexer": "ipython3",
   "version": "3.7.1"
  }
 },
 "nbformat": 4,
 "nbformat_minor": 2
}
